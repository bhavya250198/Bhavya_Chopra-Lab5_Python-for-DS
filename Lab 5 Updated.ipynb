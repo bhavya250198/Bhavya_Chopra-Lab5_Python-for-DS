{
 "cells": [
  {
   "cell_type": "markdown",
   "id": "b233a58d",
   "metadata": {
    "id": "b233a58d"
   },
   "source": [
    "# <font color=darkblue> Machine Learning model deployment with Flask framework</font>"
   ]
  },
  {
   "cell_type": "markdown",
   "id": "2c4b2479",
   "metadata": {
    "id": "2c4b2479"
   },
   "source": [
    "## <font color=Blue>Used Cars Price Prediction Application</font>"
   ]
  },
  {
   "cell_type": "markdown",
   "id": "bad7f286",
   "metadata": {
    "id": "bad7f286"
   },
   "source": [
    "### Objective:\n",
    "1. To build a Machine learning regression model to predict the selling price of the used cars based on the different input features like fuel_type, kms_driven, type of transmission etc.\n",
    "2. Deploy the machine learning model with the help of the flask framework."
   ]
  },
  {
   "cell_type": "markdown",
   "id": "3c741642",
   "metadata": {
    "id": "3c741642"
   },
   "source": [
    "### Dataset Information:\n",
    "#### Dataset Source: https://www.kaggle.com/datasets/nehalbirla/vehicle-dataset-from-cardekho?select=CAR+DETAILS+FROM+CAR+DEKHO.csv\n",
    "This dataset contains information about used cars listed on www.cardekho.com\n",
    "- **Car_Name**: Name of the car\n",
    "- **Year**: Year of Purchase\n",
    "- **Selling Price (target)**: Selling price of the car in lakhs\n",
    "- **Present Price**: Present price of the car in lakhs\n",
    "- **Kms_Driven**: kilometers driven\n",
    "- **Fuel_Type**: Petrol/diesel/CNG\n",
    "- **Seller_Type**: Dealer or Indiviual\n",
    "- **Transmission**: Manual or Automatic\n",
    "- **Owner**: first, second or third owner\n"
   ]
  },
  {
   "cell_type": "markdown",
   "id": "a340f92c",
   "metadata": {
    "id": "a340f92c"
   },
   "source": [
    "### 1. Import required libraries"
   ]
  },
  {
   "cell_type": "code",
   "execution_count": 1,
   "id": "DekbG2Sm7L00",
   "metadata": {
    "id": "DekbG2Sm7L00"
   },
   "outputs": [],
   "source": [
    "import pandas as pd;\n",
    "import flask\n",
    "from sklearn.preprocessing import OneHotEncoder, LabelEncoder"
   ]
  },
  {
   "cell_type": "markdown",
   "id": "38a2da95",
   "metadata": {
    "id": "38a2da95"
   },
   "source": [
    "### 2. Load the dataset"
   ]
  },
  {
   "cell_type": "code",
   "execution_count": 2,
   "id": "LS5P5wps7MOv",
   "metadata": {
    "id": "LS5P5wps7MOv"
   },
   "outputs": [
    {
     "name": "stdout",
     "output_type": "stream",
     "text": [
      "    Car_Name  Year  Selling_Price  Present_Price  Kms_Driven Fuel_Type  \\\n",
      "0       ritz  2014           3.35           5.59       27000    Petrol   \n",
      "1        sx4  2013           4.75           9.54       43000    Diesel   \n",
      "2       ciaz  2017           7.25           9.85        6900    Petrol   \n",
      "3    wagon r  2011           2.85           4.15        5200    Petrol   \n",
      "4      swift  2014           4.60           6.87       42450    Diesel   \n",
      "..       ...   ...            ...            ...         ...       ...   \n",
      "296     city  2016           9.50          11.60       33988    Diesel   \n",
      "297     brio  2015           4.00           5.90       60000    Petrol   \n",
      "298     city  2009           3.35          11.00       87934    Petrol   \n",
      "299     city  2017          11.50          12.50        9000    Diesel   \n",
      "300     brio  2016           5.30           5.90        5464    Petrol   \n",
      "\n",
      "    Seller_Type Transmission  Owner  \n",
      "0        Dealer       Manual      0  \n",
      "1        Dealer       Manual      0  \n",
      "2        Dealer       Manual      0  \n",
      "3        Dealer       Manual      0  \n",
      "4        Dealer       Manual      0  \n",
      "..          ...          ...    ...  \n",
      "296      Dealer       Manual      0  \n",
      "297      Dealer       Manual      0  \n",
      "298      Dealer       Manual      0  \n",
      "299      Dealer       Manual      0  \n",
      "300      Dealer       Manual      0  \n",
      "\n",
      "[301 rows x 9 columns]\n"
     ]
    }
   ],
   "source": [
    "df =pd.read_csv(\"C:/Users/ASUS-NB/Downloads/car_data.csv\")\n",
    "print(df)"
   ]
  },
  {
   "cell_type": "markdown",
   "id": "26ecd9c6",
   "metadata": {
    "id": "26ecd9c6"
   },
   "source": [
    "### 3. Check the shape and basic information of the dataset."
   ]
  },
  {
   "cell_type": "code",
   "execution_count": 3,
   "id": "wd8XSTpf7Mng",
   "metadata": {
    "id": "wd8XSTpf7Mng"
   },
   "outputs": [
    {
     "name": "stdout",
     "output_type": "stream",
     "text": [
      "(301, 9)\n",
      "<class 'pandas.core.frame.DataFrame'>\n",
      "RangeIndex: 301 entries, 0 to 300\n",
      "Data columns (total 9 columns):\n",
      " #   Column         Non-Null Count  Dtype  \n",
      "---  ------         --------------  -----  \n",
      " 0   Car_Name       301 non-null    object \n",
      " 1   Year           301 non-null    int64  \n",
      " 2   Selling_Price  301 non-null    float64\n",
      " 3   Present_Price  301 non-null    float64\n",
      " 4   Kms_Driven     301 non-null    int64  \n",
      " 5   Fuel_Type      301 non-null    object \n",
      " 6   Seller_Type    301 non-null    object \n",
      " 7   Transmission   301 non-null    object \n",
      " 8   Owner          301 non-null    int64  \n",
      "dtypes: float64(2), int64(3), object(4)\n",
      "memory usage: 21.3+ KB\n",
      "None\n"
     ]
    }
   ],
   "source": [
    "print(df.shape)\n",
    "print(df.info())"
   ]
  },
  {
   "cell_type": "markdown",
   "id": "06991b14",
   "metadata": {
    "id": "06991b14"
   },
   "source": [
    "### 4. Check for the presence of the duplicate records in the dataset? If present drop them"
   ]
  },
  {
   "cell_type": "code",
   "execution_count": 4,
   "id": "-u5XA5d47Nbe",
   "metadata": {
    "id": "-u5XA5d47Nbe"
   },
   "outputs": [
    {
     "name": "stdout",
     "output_type": "stream",
     "text": [
      "2\n"
     ]
    }
   ],
   "source": [
    "duplicates = df.duplicated()\n",
    "print(duplicates.sum())\n",
    "df.drop_duplicates(inplace=True)"
   ]
  },
  {
   "cell_type": "markdown",
   "id": "367efc0b",
   "metadata": {
    "id": "367efc0b"
   },
   "source": [
    "### 5. Drop the columns which you think redundant for the analysis."
   ]
  },
  {
   "cell_type": "code",
   "execution_count": 5,
   "id": "gPMZesyr7OHb",
   "metadata": {
    "id": "gPMZesyr7OHb"
   },
   "outputs": [
    {
     "name": "stdout",
     "output_type": "stream",
     "text": [
      "     Year  Selling_Price  Present_Price  Kms_Driven Fuel_Type Seller_Type  \\\n",
      "0    2014           3.35           5.59       27000    Petrol      Dealer   \n",
      "1    2013           4.75           9.54       43000    Diesel      Dealer   \n",
      "2    2017           7.25           9.85        6900    Petrol      Dealer   \n",
      "3    2011           2.85           4.15        5200    Petrol      Dealer   \n",
      "4    2014           4.60           6.87       42450    Diesel      Dealer   \n",
      "..    ...            ...            ...         ...       ...         ...   \n",
      "296  2016           9.50          11.60       33988    Diesel      Dealer   \n",
      "297  2015           4.00           5.90       60000    Petrol      Dealer   \n",
      "298  2009           3.35          11.00       87934    Petrol      Dealer   \n",
      "299  2017          11.50          12.50        9000    Diesel      Dealer   \n",
      "300  2016           5.30           5.90        5464    Petrol      Dealer   \n",
      "\n",
      "    Transmission  Owner  \n",
      "0         Manual      0  \n",
      "1         Manual      0  \n",
      "2         Manual      0  \n",
      "3         Manual      0  \n",
      "4         Manual      0  \n",
      "..           ...    ...  \n",
      "296       Manual      0  \n",
      "297       Manual      0  \n",
      "298       Manual      0  \n",
      "299       Manual      0  \n",
      "300       Manual      0  \n",
      "\n",
      "[299 rows x 8 columns]\n"
     ]
    }
   ],
   "source": [
    "df = df.drop(['Car_Name'], axis=1)\n",
    "print(df)"
   ]
  },
  {
   "cell_type": "markdown",
   "id": "7fb3674f",
   "metadata": {
    "id": "7fb3674f"
   },
   "source": [
    "### 6. Extract a new feature called 'age_of_the_car' from the feature 'year' and drop the feature year"
   ]
  },
  {
   "cell_type": "code",
   "execution_count": 6,
   "id": "c28f6ab9",
   "metadata": {},
   "outputs": [
    {
     "name": "stdout",
     "output_type": "stream",
     "text": [
      "     Selling_Price  Present_Price  Kms_Driven Fuel_Type Seller_Type  \\\n",
      "0             3.35           5.59       27000    Petrol      Dealer   \n",
      "1             4.75           9.54       43000    Diesel      Dealer   \n",
      "2             7.25           9.85        6900    Petrol      Dealer   \n",
      "3             2.85           4.15        5200    Petrol      Dealer   \n",
      "4             4.60           6.87       42450    Diesel      Dealer   \n",
      "..             ...            ...         ...       ...         ...   \n",
      "296           9.50          11.60       33988    Diesel      Dealer   \n",
      "297           4.00           5.90       60000    Petrol      Dealer   \n",
      "298           3.35          11.00       87934    Petrol      Dealer   \n",
      "299          11.50          12.50        9000    Diesel      Dealer   \n",
      "300           5.30           5.90        5464    Petrol      Dealer   \n",
      "\n",
      "    Transmission  Owner  age_of_the_car  \n",
      "0         Manual      0              10  \n",
      "1         Manual      0              11  \n",
      "2         Manual      0               7  \n",
      "3         Manual      0              13  \n",
      "4         Manual      0              10  \n",
      "..           ...    ...             ...  \n",
      "296       Manual      0               8  \n",
      "297       Manual      0               9  \n",
      "298       Manual      0              15  \n",
      "299       Manual      0               7  \n",
      "300       Manual      0               8  \n",
      "\n",
      "[299 rows x 8 columns]\n"
     ]
    }
   ],
   "source": [
    "current_year = 2024  # Assuming the current year is 2024\n",
    "df['age_of_the_car'] = current_year - df['Year']\n",
    "\n",
    "# Drop the 'Year' column\n",
    "df = df.drop(['Year'], axis=1)\n",
    "print(df)"
   ]
  },
  {
   "cell_type": "markdown",
   "id": "8f3a144b",
   "metadata": {
    "id": "8f3a144b"
   },
   "source": [
    "### 7. Encode the categorical columns"
   ]
  },
  {
   "cell_type": "code",
   "execution_count": 13,
   "id": "EUwBNILZ7PT9",
   "metadata": {
    "id": "EUwBNILZ7PT9"
   },
   "outputs": [
    {
     "name": "stdout",
     "output_type": "stream",
     "text": [
      "     Selling_Price  Present_Price  Kms_Driven  Owner  age_of_the_car  \\\n",
      "0             3.35           5.59       27000      0              10   \n",
      "1             4.75           9.54       43000      0              11   \n",
      "2             7.25           9.85        6900      0               7   \n",
      "3             2.85           4.15        5200      0              13   \n",
      "4             4.60           6.87       42450      0              10   \n",
      "..             ...            ...         ...    ...             ...   \n",
      "296           9.50          11.60       33988      0               8   \n",
      "297           4.00           5.90       60000      0               9   \n",
      "298           3.35          11.00       87934      0              15   \n",
      "299          11.50          12.50        9000      0               7   \n",
      "300           5.30           5.90        5464      0               8   \n",
      "\n",
      "     Fuel_Type_Diesel  Fuel_Type_Petrol  Seller_Type_Individual  \\\n",
      "0                   0                 1                       0   \n",
      "1                   1                 0                       0   \n",
      "2                   0                 1                       0   \n",
      "3                   0                 1                       0   \n",
      "4                   1                 0                       0   \n",
      "..                ...               ...                     ...   \n",
      "296                 1                 0                       0   \n",
      "297                 0                 1                       0   \n",
      "298                 0                 1                       0   \n",
      "299                 1                 0                       0   \n",
      "300                 0                 1                       0   \n",
      "\n",
      "     Transmission_Manual  \n",
      "0                      1  \n",
      "1                      1  \n",
      "2                      1  \n",
      "3                      1  \n",
      "4                      1  \n",
      "..                   ...  \n",
      "296                    1  \n",
      "297                    1  \n",
      "298                    1  \n",
      "299                    1  \n",
      "300                    1  \n",
      "\n",
      "[299 rows x 9 columns]\n"
     ]
    }
   ],
   "source": [
    "\n",
    "\n",
    "# Apply one-hot encoding\n",
    "df_encoded = pd.get_dummies(df, drop_first=True)\n",
    "print(df_encoded)"
   ]
  },
  {
   "cell_type": "markdown",
   "id": "8afe4984",
   "metadata": {
    "id": "8afe4984"
   },
   "source": [
    "### 8. Separate the target and independent features."
   ]
  },
  {
   "cell_type": "code",
   "execution_count": 8,
   "id": "39E39X1y7Pvq",
   "metadata": {
    "id": "39E39X1y7Pvq"
   },
   "outputs": [
    {
     "name": "stdout",
     "output_type": "stream",
     "text": [
      "Shape of X: (299, 8)\n",
      "Shape of y: (299,)\n"
     ]
    }
   ],
   "source": [
    "X = df_encoded.drop('Selling_Price', axis=1)  # Independent features\n",
    "y = df_encoded['Selling_Price']  # Target variable\n",
    "\n",
    "# Display the shapes of X and y\n",
    "print(\"Shape of X:\", X.shape)\n",
    "print(\"Shape of y:\", y.shape)"
   ]
  },
  {
   "cell_type": "markdown",
   "id": "e12c5ef9",
   "metadata": {
    "id": "e12c5ef9"
   },
   "source": [
    "### 9. Split the data into train and test."
   ]
  },
  {
   "cell_type": "code",
   "execution_count": 9,
   "id": "gvxCw7PF7Qon",
   "metadata": {
    "id": "gvxCw7PF7Qon"
   },
   "outputs": [
    {
     "name": "stdout",
     "output_type": "stream",
     "text": [
      "Shape of X_train: (239, 8)\n",
      "Shape of X_test: (60, 8)\n",
      "Shape of y_train: (239,)\n",
      "Shape of y_test: (60,)\n"
     ]
    }
   ],
   "source": [
    "from sklearn.model_selection import train_test_split\n",
    "\n",
    "# Split the data into train and test sets\n",
    "X_train, X_test, y_train, y_test = train_test_split(X, y, test_size=0.2, random_state=42)\n",
    "\n",
    "# Display the shapes of the resulting sets\n",
    "print(\"Shape of X_train:\", X_train.shape)\n",
    "print(\"Shape of X_test:\", X_test.shape)\n",
    "print(\"Shape of y_train:\", y_train.shape)\n",
    "print(\"Shape of y_test:\", y_test.shape)\n"
   ]
  },
  {
   "cell_type": "markdown",
   "id": "e86fbc33",
   "metadata": {
    "id": "e86fbc33"
   },
   "source": [
    "### 10. Build a Random forest Regressor model and check the r2-score for train and test."
   ]
  },
  {
   "cell_type": "code",
   "execution_count": 10,
   "id": "IiEKH-kh7Rsw",
   "metadata": {
    "id": "IiEKH-kh7Rsw"
   },
   "outputs": [
    {
     "name": "stdout",
     "output_type": "stream",
     "text": [
      "R-squared score for training set: 0.9840594603786668\n",
      "R-squared score for test set: 0.547390441726516\n"
     ]
    }
   ],
   "source": [
    "from sklearn.ensemble import RandomForestRegressor\n",
    "from sklearn.metrics import r2_score\n",
    "\n",
    "# Initialize the Random Forest Regressor model\n",
    "rf_model = RandomForestRegressor(random_state=42)\n",
    "\n",
    "# Train the model\n",
    "rf_model.fit(X_train, y_train)\n",
    "\n",
    "# Make predictions on the training set\n",
    "y_train_pred = rf_model.predict(X_train)\n",
    "\n",
    "# Make predictions on the test set\n",
    "y_test_pred = rf_model.predict(X_test)\n",
    "\n",
    "# Calculate R-squared score for training set\n",
    "r2_train = r2_score(y_train, y_train_pred)\n",
    "\n",
    "# Calculate R-squared score for test set\n",
    "r2_test = r2_score(y_test, y_test_pred)\n",
    "\n",
    "# Display R-squared scores\n",
    "print(\"R-squared score for training set:\", r2_train)\n",
    "print(\"R-squared score for test set:\", r2_test)\n"
   ]
  },
  {
   "cell_type": "markdown",
   "id": "ab525b11",
   "metadata": {
    "id": "ab525b11"
   },
   "source": [
    "### 11. Create a pickle file with an extension as .pkl"
   ]
  },
  {
   "cell_type": "code",
   "execution_count": 11,
   "id": "jLj3VeCH7Spb",
   "metadata": {
    "id": "jLj3VeCH7Spb"
   },
   "outputs": [
    {
     "name": "stdout",
     "output_type": "stream",
     "text": [
      "Model saved to random_forest_model.pkl\n"
     ]
    }
   ],
   "source": [
    "import pickle\n",
    "\n",
    "# Save the trained Random Forest Regressor model to a pickle file\n",
    "model_filename = 'random_forest_model.pkl'\n",
    "with open(model_filename, 'wb') as file:\n",
    "    pickle.dump(rf_model, file)\n",
    "\n",
    "print(f\"Model saved to {model_filename}\")"
   ]
  },
  {
   "cell_type": "markdown",
   "id": "26246dc9",
   "metadata": {
    "id": "26246dc9"
   },
   "source": [
    "### 12. Create new folder/new project in visual studio/pycharm that should contain the \"model.pkl\" file *make sure you are using a virutal environment and install required packages.*"
   ]
  },
  {
   "cell_type": "markdown",
   "id": "0f2bd8b3",
   "metadata": {
    "id": "0f2bd8b3"
   },
   "source": [
    "### a) Create a basic HTML form for the frontend"
   ]
  },
  {
   "cell_type": "markdown",
   "id": "d5a3da56",
   "metadata": {
    "id": "d5a3da56"
   },
   "source": [
    "Create a file **index.html** in the templates folder and copy the following code."
   ]
  },
  {
   "cell_type": "markdown",
   "id": "l6E1gBAZ7UD4",
   "metadata": {
    "id": "l6E1gBAZ7UD4"
   },
   "source": [
    "<!-- index.html -->\n",
    "\n",
    "<!DOCTYPE html>\n",
    "<html lang=\"en\">\n",
    "<head>\n",
    "    <meta charset=\"UTF-8\">\n",
    "    <meta name=\"viewport\" content=\"width=device-width, initial-scale=1.0\">\n",
    "    <title>Car Price Prediction</title>\n",
    "    <!-- Add any additional styling or links to external stylesheets here -->\n",
    "    <style>\n",
    "        body {\n",
    "            font-family: Arial, sans-serif;\n",
    "            background-color: #f4f4f4;\n",
    "            margin: 0;\n",
    "            padding: 0;\n",
    "        }\n",
    "\n",
    "        h1 {\n",
    "            color: #333;\n",
    "            text-align:center;\n",
    "        }\n",
    "\n",
    "        form {\n",
    "            max-width: 400px;\n",
    "            margin: 20px auto;\n",
    "            padding: 20px;\n",
    "            background-color: #fff;\n",
    "            box-shadow: 0 0 10px rgba(0, 0, 0, 0.1);\n",
    "            border-radius: 5px;\n",
    "        }\n",
    "\n",
    "        label {\n",
    "            display: block;\n",
    "            margin-bottom: 8px;\n",
    "            font-weight: bold;\n",
    "        }\n",
    "\n",
    "        input,\n",
    "        select {\n",
    "            width: 100%;\n",
    "            padding: 8px;\n",
    "            margin-bottom: 16px;\n",
    "            box-sizing: border-box;\n",
    "        }\n",
    "\n",
    "        button {\n",
    "            background-color: #007bff;\n",
    "            color: #fff;\n",
    "            padding: 10px 15px;\n",
    "            border: none;\n",
    "            border-radius: 3px;\n",
    "            cursor: pointer;\n",
    "        }\n",
    "\n",
    "        button:hover {\n",
    "            background-color: #0056b3;\n",
    "        }\n",
    "    </style>\n",
    "</head>\n",
    "<body>\n",
    "\n",
    "    <h1>Car Price Prediction</h1>\n",
    "\n",
    "    <form action=\"/predict\" method=\"post\">\n",
    "        <label for=\"present_price\">Present Price:</label>\n",
    "        <input type=\"text\" id=\"present_price\" name=\"present_price\" required>\n",
    "\n",
    "        <label for=\"kms_driven\">Kilometers Driven:</label>\n",
    "        <input type=\"text\" id=\"kms_driven\" name=\"kms_driven\" required>\n",
    "\n",
    "        <label for=\"fuel_type\">Fuel Type:</label>\n",
    "        <select id=\"fuel_type\" name=\"fuel_type\" required>\n",
    "            <option value=\"Petrol\">Petrol</option>\n",
    "            <option value=\"Diesel\">Diesel</option>\n",
    "            <!-- Add more fuel types if needed -->\n",
    "        </select>\n",
    "\n",
    "        <label for=\"seller_type\">Seller Type:</label>\n",
    "        <select id=\"seller_type\" name=\"seller_type\" required>\n",
    "            <option value=\"Individual\">Individual</option>\n",
    "            <option value=\"Dealer\">Dealer</option>\n",
    "            <!-- Add more seller types if needed -->\n",
    "        </select>\n",
    "\n",
    "        <label for=\"transmission\">Transmission:</label>\n",
    "        <select id=\"transmission\" name=\"transmission\" required>\n",
    "            <option value=\"Manual\">Manual</option>\n",
    "            <option value=\"Automatic\">Automatic</option>\n",
    "            <!-- Add more transmission types if needed -->\n",
    "        </select>\n",
    "\n",
    "        <label for=\"owner\">Owner:</label>\n",
    "        <input type=\"text\" id=\"owner\" name=\"owner\" required>\n",
    "\n",
    "        <!-- Include the input field for age_of_the_car -->\n",
    "        <label for=\"age_of_the_car\">Age of the Car:</label>\n",
    "        <input type=\"text\" id=\"age_of_the_car\" name=\"age_of_the_car\" required>\n",
    "\n",
    "        <button type=\"submit\">Predict</button>\n",
    "    </form>\n",
    "\n",
    "</body>\n",
    "</html>\n"
   ]
  },
  {
   "cell_type": "markdown",
   "id": "ab774e57",
   "metadata": {
    "id": "ab774e57"
   },
   "source": [
    "### b) Create app.py file and write the predict function"
   ]
  },
  {
   "cell_type": "code",
   "execution_count": null,
   "id": "9r3rWra57UuQ",
   "metadata": {
    "id": "9r3rWra57UuQ"
   },
   "outputs": [],
   "source": [
    "# app.py\n",
    "\n",
    "from flask import Flask, render_template, request\n",
    "import pickle\n",
    "import pandas as pd\n",
    "\n",
    "app = Flask(__name__, template_folder='templates')\n",
    "\n",
    "\n",
    "# Load the trained model from the pickle file\n",
    "model_filename = 'random_forest_model.pkl'\n",
    "with open(model_filename, 'rb') as file:\n",
    "    model = pickle.load(file)\n",
    "\n",
    "# Define the predict function\n",
    "def predict_price(present_price, kms_driven, fuel_type, seller_type, transmission, owner,age_of_the_car):\n",
    "    # Create a DataFrame with the input data\n",
    "    \n",
    "    input_data = pd.DataFrame({\n",
    "        'Present_Price': [float(present_price)],\n",
    "    'Kms_Driven': [int(kms_driven)],\n",
    "    'Fuel_Type_Diesel': [1] if fuel_type == 'Diesel' else [0],\n",
    "    'Fuel_Type_Petrol': [1] if fuel_type == 'Petrol' else [0],\n",
    "    # 'Seller_Type_Dealer': [1] if seller_type == 'Dealer' else [0],\n",
    "    'Seller_Type_Individual': [1] if seller_type == 'Individual' else [0],\n",
    "    # 'Transmission_Automatic': [1] if transmission == 'Automatic' else [0],\n",
    "    'Transmission_Manual': [1] if transmission == 'Manual' else [0],\n",
    "    'Owner':[int(owner)],\n",
    "        'age_of_the_car':[int(age_of_the_car)]\n",
    "    })\n",
    "\n",
    "    # Make a prediction using the loaded model\n",
    "    predicted_price = model.predict(input_data)\n",
    "\n",
    "    return predicted_price[0]\n",
    "\n",
    "# Define the route for the main page\n",
    "@app.route('/')\n",
    "def index():\n",
    "    return render_template('index.html')\n",
    "\n",
    "# Define the route for handling predictions\n",
    "@app.route('/predict', methods=['POST'])\n",
    "def make_prediction():\n",
    "    if request.method == 'POST':\n",
    "        present_price = request.form['present_price']\n",
    "        kms_driven = request.form['kms_driven']\n",
    "        fuel_type = request.form['fuel_type']\n",
    "        seller_type = request.form['seller_type']\n",
    "        transmission = request.form['transmission']\n",
    "        owner = request.form['owner']\n",
    "        age_of_the_car=request.form['age_of_the_car']\n",
    "        # Call the predict_price function\n",
    "        predicted_price = predict_price(present_price, kms_driven, fuel_type, seller_type, transmission, owner,age_of_the_car)\n",
    "\n",
    "        # Display the predicted price on a new page or within the same page\n",
    "        return f'Predicted Selling Price: {predicted_price} lakhs'\n",
    "\n",
    "if __name__ == '__main__':\n",
    "    app.run(debug=True)\n"
   ]
  },
  {
   "cell_type": "markdown",
   "id": "CBewpqT7MEbb",
   "metadata": {
    "id": "CBewpqT7MEbb"
   },
   "source": [
    "### 13. Run the app.py python file which will render to index html page then enter the input values and get the prediction."
   ]
  },
  {
   "cell_type": "code",
   "execution_count": null,
   "id": "8g7gvFyD7VHN",
   "metadata": {
    "id": "8g7gvFyD7VHN"
   },
   "outputs": [],
   "source": []
  },
  {
   "cell_type": "markdown",
   "id": "e899b5a2",
   "metadata": {
    "id": "e899b5a2"
   },
   "source": [
    "### Happy Learning :)"
   ]
  }
 ],
 "metadata": {
  "colab": {
   "provenance": []
  },
  "kernelspec": {
   "display_name": "Python 3 (ipykernel)",
   "language": "python",
   "name": "python3"
  },
  "language_info": {
   "codemirror_mode": {
    "name": "ipython",
    "version": 3
   },
   "file_extension": ".py",
   "mimetype": "text/x-python",
   "name": "python",
   "nbconvert_exporter": "python",
   "pygments_lexer": "ipython3",
   "version": "3.11.4"
  }
 },
 "nbformat": 4,
 "nbformat_minor": 5
}
